{
 "cells": [
  {
   "cell_type": "code",
   "execution_count": 1,
   "id": "6f619aa9-81b7-486a-959c-eece17bfd394",
   "metadata": {},
   "outputs": [
    {
     "name": "stdout",
     "output_type": "stream",
     "text": [
      "Pi: 3.141592653589793\n",
      "Speed of light: 299792458 m/s\n"
     ]
    }
   ],
   "source": [
    "# 11. Define a Python module named constants.py containing constants \n",
    "# like pi and the speed of light.\n",
    "\n",
    "import constants\n",
    "\n",
    "print(\"Pi:\", constants.PI)\n",
    "print(\"Speed of light:\", constants.SPEED_OF_LIGHT, \"m/s\")\n",
    "\n"
   ]
  },
  {
   "cell_type": "code",
   "execution_count": 2,
   "id": "f066b904-e4c8-4c0e-96df-36df770cc3b8",
   "metadata": {},
   "outputs": [
    {
     "name": "stdout",
     "output_type": "stream",
     "text": [
      "Add: 15\n",
      "Subtract: 5\n",
      "Multiply: 50\n",
      "Divide: 2.0\n"
     ]
    }
   ],
   "source": [
    "# 12. Write a Python module named calculator.py \n",
    "# containing functions for addition, subtraction, multiplication, and division.\n",
    "\n",
    "import calculator\n",
    "\n",
    "print(\"Add:\", calculator.add(10, 5))\n",
    "print(\"Subtract:\", calculator.subtract(10, 5))\n",
    "print(\"Multiply:\", calculator.multiply(10, 5))\n",
    "print(\"Divide:\", calculator.divide(10, 5))\n"
   ]
  },
  {
   "cell_type": "code",
   "execution_count": 9,
   "id": "7791006f-47e7-4f27-baa8-35951f778503",
   "metadata": {},
   "outputs": [
    {
     "ename": "ModuleNotFoundError",
     "evalue": "No module named 'ecommerce'",
     "output_type": "error",
     "traceback": [
      "\u001b[1;31m---------------------------------------------------------------------------\u001b[0m",
      "\u001b[1;31mModuleNotFoundError\u001b[0m                       Traceback (most recent call last)",
      "Cell \u001b[1;32mIn[9], line 4\u001b[0m\n\u001b[0;32m      1\u001b[0m \u001b[38;5;66;03m# 13. Implement a Python package structure for a project named ecommerce, \u001b[39;00m\n\u001b[0;32m      2\u001b[0m \u001b[38;5;66;03m# containing modules for product management and order processing.\u001b[39;00m\n\u001b[0;32m      3\u001b[0m \u001b[38;5;28;01mimport\u001b[39;00m \u001b[38;5;21;01mEcommerce\u001b[39;00m\u001b[38;5;21;01m.\u001b[39;00m\u001b[38;5;21;01mproduct_management\u001b[39;00m \u001b[38;5;28;01mas\u001b[39;00m \u001b[38;5;21;01mp\u001b[39;00m\n\u001b[1;32m----> 4\u001b[0m \u001b[38;5;28;01mimport\u001b[39;00m \u001b[38;5;21;01mEcommerce\u001b[39;00m\u001b[38;5;21;01m.\u001b[39;00m\u001b[38;5;21;01morder_processing\u001b[39;00m \u001b[38;5;28;01mas\u001b[39;00m \u001b[38;5;21;01mo\u001b[39;00m\n\u001b[0;32m      5\u001b[0m \u001b[38;5;66;03m# Create a product\u001b[39;00m\n\u001b[0;32m      6\u001b[0m p1 \u001b[38;5;241m=\u001b[39m p\u001b[38;5;241m.\u001b[39mProduct(\u001b[38;5;241m101\u001b[39m, \u001b[38;5;124m\"\u001b[39m\u001b[38;5;124mWireless Mouse\u001b[39m\u001b[38;5;124m\"\u001b[39m, \u001b[38;5;241m799\u001b[39m, \u001b[38;5;241m10\u001b[39m)\n",
      "File \u001b[1;32mE:\\4 Data Science\\0 Jupyter\\Asg\\Ecommerce\\order_processing.py:2\u001b[0m\n\u001b[0;32m      1\u001b[0m \u001b[38;5;66;03m# ecommerce/order_processing.py\u001b[39;00m\n\u001b[1;32m----> 2\u001b[0m \u001b[38;5;28;01mfrom\u001b[39;00m \u001b[38;5;21;01mecommerce\u001b[39;00m\u001b[38;5;21;01m.\u001b[39;00m\u001b[38;5;21;01mproduct_management\u001b[39;00m \u001b[38;5;28;01mimport\u001b[39;00m Product\n\u001b[0;32m      4\u001b[0m \u001b[38;5;28;01mclass\u001b[39;00m \u001b[38;5;21;01mOrder\u001b[39;00m:\n\u001b[0;32m      5\u001b[0m     \u001b[38;5;28;01mdef\u001b[39;00m \u001b[38;5;21m__init__\u001b[39m(\u001b[38;5;28mself\u001b[39m, order_id, product, quantity):\n",
      "\u001b[1;31mModuleNotFoundError\u001b[0m: No module named 'ecommerce'"
     ]
    }
   ],
   "source": [
    "# 13. Implement a Python package structure for a project named ecommerce, \n",
    "# containing modules for product management and order processing.\n",
    "import Ecommerce.product_management as p\n",
    "import Ecommerce.order_processing as o\n",
    "# Create a product\n",
    "p1 = p.Product(101, \"Wireless Mouse\", 799, 10)\n",
    "print(p1.get_product_info())\n",
    "\n",
    "# Create and process an order\n",
    "order1 = o.Order(5001, p1, 3)\n",
    "print(order1.process_order())\n",
    "\n",
    "# View updated product info\n",
    "print(p1.get_product_info())\n"
   ]
  },
  {
   "cell_type": "code",
   "execution_count": 10,
   "id": "45d9c831-cf4f-4212-b4ea-aaa59557da83",
   "metadata": {},
   "outputs": [
    {
     "name": "stdout",
     "output_type": "stream",
     "text": [
      "Reversed: dlroW olleH\n",
      "Capitalized: Hello world\n",
      "Uppercase: HELLO WORLD\n",
      "Lowercase: hello world\n",
      "Is Palindrome (hello): False\n",
      "Is Palindrome (madam): True\n"
     ]
    }
   ],
   "source": [
    "# 14. Implement a Python module named string_utils.py \n",
    "# containing functions for string manipulation, such as reversing and capitalizing strings.\n",
    "\n",
    "import string_utils\n",
    "\n",
    "text = \"Hello World\"\n",
    "\n",
    "print(\"Reversed:\", string_utils.reverse_string(text))\n",
    "print(\"Capitalized:\", string_utils.capitalize_string(text))\n",
    "print(\"Uppercase:\", string_utils.to_uppercase(text))\n",
    "print(\"Lowercase:\", string_utils.to_lowercase(text))\n",
    "print(\"Is Palindrome (hello):\", string_utils.is_palindrome(\"hello\"))\n",
    "print(\"Is Palindrome (madam):\", string_utils.is_palindrome(\"madam\"))\n"
   ]
  },
  {
   "cell_type": "code",
   "execution_count": 11,
   "id": "5890d84f-b196-4cd2-b1d4-56c3a8e7427e",
   "metadata": {},
   "outputs": [
    {
     "name": "stdout",
     "output_type": "stream",
     "text": [
      "Data written to 'sample.txt' successfully.\n",
      "Data appended to 'sample.txt' successfully.\n",
      "Hello, World!\n",
      "This is a new line.\n"
     ]
    }
   ],
   "source": [
    "# 15. Write a Python module named file_operations.py \n",
    "# with functions for reading, writing, and appending data to a file.\n",
    "\n",
    "import file_operations\n",
    "\n",
    "# Write data to a file\n",
    "write_result = file_operations.write_to_file('sample.txt', 'Hello, World!')\n",
    "print(write_result)  # Output: Data written to 'sample.txt' successfully.\n",
    "\n",
    "# Append data to the file\n",
    "append_result = file_operations.append_to_file('sample.txt', '\\nThis is a new line.')\n",
    "print(append_result)  # Output: Data appended to 'sample.txt' successfully.\n",
    "\n",
    "# Read data from the file\n",
    "file_content = file_operations.read_file('sample.txt')\n",
    "print(file_content)\n"
   ]
  },
  {
   "cell_type": "code",
   "execution_count": 12,
   "id": "266c4254-35f4-4135-abce-348fdc930b96",
   "metadata": {},
   "outputs": [
    {
     "name": "stdout",
     "output_type": "stream",
     "text": [
      "Employee details have been written to 'employees.txt'.\n",
      "<built-in method read of _io.TextIOWrapper object at 0x0000020ABCEF9D20>\n"
     ]
    }
   ],
   "source": [
    "# 16. Write a Python program to create a text file named \"employees.txt\" \n",
    "# and write the details of employees, including their name, age, and salary, into the file.\n",
    "\n",
    "def create_employee_file():\n",
    "    employees = [\n",
    "        {\"name\": \"Alice\", \"age\": 30, \"salary\": 55000},\n",
    "        {\"name\": \"Bob\", \"age\": 25, \"salary\": 48000},\n",
    "        {\"name\": \"Charlie\", \"age\": 35, \"salary\": 60000},\n",
    "        {\"name\": \"David\", \"age\": 40, \"salary\": 65000}\n",
    "    ]\n",
    "    \n",
    "    # Create or open the file in write mode\n",
    "    with open('employees.txt', 'w') as file:\n",
    "        # Write headers to the file\n",
    "        file.write(\"Name\\tAge\\tSalary\\n\")\n",
    "        file.write(\"----------------------------\\n\")\n",
    "        \n",
    "        # Write employee details\n",
    "        for employee in employees:\n",
    "            file.write(f\"{employee['name']}\\t{employee['age']}\\t{employee['salary']}\\n\")\n",
    "    \n",
    "    print(\"Employee details have been written to 'employees.txt'.\")\n",
    "\n",
    "# Call the function to create the file and write the data\n",
    "create_employee_file()\n",
    "\n",
    "file = open('employees.txt' , 'r')\n",
    "print(file.read)\n",
    "file.close()"
   ]
  },
  {
   "cell_type": "code",
   "execution_count": 13,
   "id": "3c84e8fd-4647-4270-a67b-a6474e099567",
   "metadata": {},
   "outputs": [
    {
     "name": "stdout",
     "output_type": "stream",
     "text": [
      "Inventory Details:\n",
      "Item: Laptop\n",
      "Stock: 25\n",
      "Price: $1200\n",
      "\n",
      "Item: Smartphone\n",
      "Stock: 50\n",
      "Price: $800\n",
      "\n",
      "Item: Tablet\n",
      "Stock: 30\n",
      "Price: $600\n"
     ]
    }
   ],
   "source": [
    "# 17. Develop a Python script that opens an existing text file named \"inventory.txt\" i\n",
    "# n read mode and displays the contents of the file line by line.\n",
    "\n",
    "try:\n",
    "    with open('inventory.txt', 'r') as file:\n",
    "        print(\"Inventory Details:\")\n",
    "        for line in file:\n",
    "            print(line.strip())  # Use strip to remove any extra newlines or spaces\n",
    "except FileNotFoundError:\n",
    "    print(\"Error: 'inventory.txt' does not exist.\")\n",
    "except Exception as e:\n",
    "    print(f\"Error: {str(e)}\")\n",
    "\n",
    "file.close()"
   ]
  },
  {
   "cell_type": "code",
   "execution_count": 14,
   "id": "4a358fe8-6fd1-4d7c-a574-ea2134b1b2a5",
   "metadata": {},
   "outputs": [
    {
     "name": "stdout",
     "output_type": "stream",
     "text": [
      "Total Expenses: $1675.00\n"
     ]
    }
   ],
   "source": [
    "# 18. Create a Python script that reads a text file named \"expenses.txt\" \n",
    "# and calculates the total amount spent on various expenses listed in the file.\n",
    "\n",
    "total_expenses = 0  # Initialize total expenses to 0\n",
    "\n",
    "try:\n",
    "    # Open the file in read mode\n",
    "    with open('expenses.txt', 'r') as file:\n",
    "        # Loop through each line in the file\n",
    "        for line in file:\n",
    "            # Split each line at the colon to separate the expense name and amount\n",
    "            expense = line.split(\":\")\n",
    "            if len(expense) == 2:  # Ensure the line is in the expected format\n",
    "                try:\n",
    "                    # Convert the amount (second part) to a float and add to total_expenses\n",
    "                    amount = float(expense[1].strip())  # strip to remove leading/trailing spaces\n",
    "                    total_expenses += amount\n",
    "                except ValueError:\n",
    "                    print(f\"Warning: Invalid amount on line: {line.strip()}\")\n",
    "            else:\n",
    "                print(f\"Warning: Invalid line format on line: {line.strip()}\")\n",
    "\n",
    "    # Display the total expenses\n",
    "    print(f\"Total Expenses: ${total_expenses:.2f}\")\n",
    "\n",
    "except FileNotFoundError:\n",
    "    print(\"Error: 'expenses.txt' does not exist.\")\n",
    "except Exception as e:\n",
    "    print(f\"Error: {str(e)}\")\n"
   ]
  },
  {
   "cell_type": "code",
   "execution_count": 15,
   "id": "5beb4ee3-55a6-407d-8776-913638cea8a9",
   "metadata": {},
   "outputs": [
    {
     "name": "stdout",
     "output_type": "stream",
     "text": [
      "a: 1\n",
      "full: 1\n",
      "hello: 1\n",
      "is: 2\n",
      "of: 1\n",
      "test: 1\n",
      "the: 1\n",
      "this: 1\n",
      "wonders: 1\n",
      "world: 2\n"
     ]
    }
   ],
   "source": [
    "# 19. Create a Python program that reads a text file named \"paragraph.txt\"\n",
    "# and counts the occurrences of each word in the paragraph, displaying the results in alphabetical order.\n",
    "\n",
    "from collections import Counter\n",
    "import string\n",
    "\n",
    "# Initialize a Counter object to count word occurrences\n",
    "word_count = Counter()\n",
    "\n",
    "try:\n",
    "    # Open the file in read mode\n",
    "    with open('paragraph.txt', 'r') as file:\n",
    "        # Read the entire content of the file\n",
    "        content = file.read()\n",
    "\n",
    "        # Remove punctuation using str.translate() and string.punctuation\n",
    "        content = content.translate(str.maketrans('', '', string.punctuation))\n",
    "\n",
    "        # Convert the content to lowercase to make the word count case-insensitive\n",
    "        content = content.lower()\n",
    "\n",
    "        # Split the content into words (split by whitespace)\n",
    "        words = content.split()\n",
    "\n",
    "        # Update the word count using Counter\n",
    "        word_count.update(words)\n",
    "\n",
    "    # Sort the words in alphabetical order and display the results\n",
    "    for word in sorted(word_count):\n",
    "        print(f\"{word}: {word_count[word]}\")\n",
    "\n",
    "except FileNotFoundError:\n",
    "    print(\"Error: 'paragraph.txt' does not exist.\")\n",
    "except Exception as e:\n",
    "    print(f\"Error: {str(e)}\")\n"
   ]
  },
  {
   "cell_type": "code",
   "execution_count": null,
   "id": "7b2d2f13-0c3b-4fe7-963a-feb9d4d7a736",
   "metadata": {},
   "outputs": [],
   "source": []
  },
  {
   "cell_type": "code",
   "execution_count": null,
   "id": "d56070cb-f435-4246-9755-b82e8c7a2a9e",
   "metadata": {},
   "outputs": [],
   "source": []
  }
 ],
 "metadata": {
  "kernelspec": {
   "display_name": "Python 3 (ipykernel)",
   "language": "python",
   "name": "python3"
  },
  "language_info": {
   "codemirror_mode": {
    "name": "ipython",
    "version": 3
   },
   "file_extension": ".py",
   "mimetype": "text/x-python",
   "name": "python",
   "nbconvert_exporter": "python",
   "pygments_lexer": "ipython3",
   "version": "3.12.3"
  }
 },
 "nbformat": 4,
 "nbformat_minor": 5
}
