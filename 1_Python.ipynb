{
 "cells": [
  {
   "cell_type": "code",
   "execution_count": 1,
   "id": "d180b50e-46c1-472a-8de9-181447bdee32",
   "metadata": {},
   "outputs": [
    {
     "name": "stdout",
     "output_type": "stream",
     "text": [
      "a) ['freedom_fighter', 'Mohan', 'dash', 'karam', 'chandra', 'gandhi', 'Bapu']\n",
      "b) 6\n",
      "c) ['freedomFighter', 'Bapuji', 'Mohandash', 'karam', 'chandra', 'gandhi', 'Netaji', 'Bose']\n",
      "d ['Mohan', 'dash', 'karam', 'chandra', 'gandi', 'Bapuji'],temp:Mohan\n"
     ]
    }
   ],
   "source": [
    "\n",
    "# Question 1.3.\n",
    "# \tname=\"Mohan\", \"dash\", \"karam\", \"chandra\", \"gandhi\", \"Bapu\"] \n",
    "# \tdo the following operations in this list,?\n",
    "name=[\"Mohan\", \"dash\", \"karam\", \"chandra\", \"gandhi\", \"Bapu\"] \n",
    "\n",
    "# a) add an element \"freedom_fighter in this list at the Oth index.\n",
    "name.insert(0, \"freedom_fighter\")\n",
    "print(f\"a) {name}\")\n",
    "\n",
    "# b) find the output of the following, and explain how?\n",
    "# \tname [\"freedomFighter\", \"Bapuji\", \"Mohan\" \"dash\", \"karam\",\"chandra\", \"gandhi\"]\n",
    "# \tlength1=len((name[-len(name)+1:-1:2])) length2=len((name [-len (name)+1:-1]))\n",
    "# \tprint(length1+length2)\n",
    "name=[\"freedomFighter\", \"Bapuji\", \"Mohan\" \"dash\", \"karam\",\"chandra\", \"gandhi\"]\n",
    "n=len(name)\n",
    "length1=len((name[-n+1:-1:2])) # n=6 len(name[-5:-1:2]) slicing list length take\n",
    "length2=len((name [-n+1:-1]))  # n=6 len(name[-5:-1] slicing list length take\n",
    "print(f\"b) {length1+length2}\")\n",
    "\n",
    "# c) add two more elements in the name ['Netaji\", \"Bose\"] at the end of the list.\n",
    "name.append(\"Netaji\")  \n",
    "name.append(\"Bose\")  \n",
    "print(f\"c) {name}\")\n",
    "\n",
    "# d) what will be the value of temp:\n",
    "name = [\"Bapuji\", \"dash\", \"karam\", \"chandra\", \"gandi\", \"Mohan\"]\n",
    "temp=name[-1] # Mohan bcz of last index value or back index starting value = -1\n",
    "name[-1]=name[0]\n",
    "name[0]=temp\n",
    "print(f\"d {name},temp:{temp}\")"
   ]
  },
  {
   "cell_type": "code",
   "execution_count": 2,
   "id": "4680782e-611d-4e93-99e0-ab7d8d48b4c0",
   "metadata": {},
   "outputs": [
    {
     "name": "stdout",
     "output_type": "stream",
     "text": [
      "2\n",
      "4\n",
      "7\n"
     ]
    }
   ],
   "source": [
    "# Question 1.4.Find the output of the following.\n",
    "# animal Human', 'cat', 'mat', 'cat','rat', 'Human, Lion'\n",
    "# \tprint(animal.count('Human'))\n",
    "# \tprint(animal.index('rat'))\n",
    "# \t\tprint(len(animal))\n",
    "\n",
    "animal=[ 'Human', 'cat', 'mat', 'cat','rat', 'Human', 'Lion']\n",
    "print(animal.count('Human'))\n",
    "print(animal.index('rat'))\n",
    "print(len(animal))\n",
    "\t\t"
   ]
  },
  {
   "cell_type": "code",
   "execution_count": 3,
   "id": "19d2da2f-41d7-474e-afef-b25d93d97a69",
   "metadata": {},
   "outputs": [
    {
     "name": "stdout",
     "output_type": "stream",
     "text": [
      "8\n",
      "Navneet\n",
      "1\n",
      "jl\n",
      "22\n"
     ]
    }
   ],
   "source": [
    "# Question 1.5. tuple1=(10,20,\"Apple\", 3.4,'a', [\"master\", \"jl\"], (\"sita\",\"geeta\", 22),[{\"roll_no\":1}, {\"name\": \"Navneet\"}])\n",
    "# \ta)print(len(tuplel))\n",
    "# \tb)print(tuplel[-1][-1][\"name\"])\n",
    "# \tc)fetch the value of roll_no from this tuple.\n",
    "# \td)print(tuple1[-3][1])\n",
    "# \te) fetch the element \"22\" from this tuple.\n",
    "\n",
    "tuple1 = ( 10,20,\"Apple\",3.4,'a',[\"master\", \"jl\"],(\"sita\", \"geeta\", 22),[{\"roll_no\": 1}, {\"name\": \"Navneet\"}] )\n",
    "\n",
    "# a)\n",
    "print(len(tuple1))\n",
    "\n",
    "# b)\n",
    "print(tuple1[-1][-1][\"name\"])\n",
    "\n",
    "# c)\n",
    "roll_no = tuple1[-1][0][\"roll_no\"]\n",
    "print(roll_no)  \n",
    "\n",
    "# d)\n",
    "print(tuple1[-3][1])  \n",
    "\n",
    "# e)\n",
    "value_22 = tuple1[6][2]  \n",
    "print(value_22) "
   ]
  },
  {
   "cell_type": "code",
   "execution_count": 4,
   "id": "125c75fb-9a02-4821-a39c-dce294cf0db4",
   "metadata": {},
   "outputs": [
    {
     "name": "stdin",
     "output_type": "stream",
     "text": [
      "Enter the  color or coresspond value of the traffic signal (\n",
      "                    1)Red, \n",
      "                    2)Yellow, \n",
      "                    3)Green):\n",
      "                     2\n"
     ]
    },
    {
     "name": "stdout",
     "output_type": "stream",
     "text": [
      "Stay\n"
     ]
    }
   ],
   "source": [
    "# 1.6. Write a program to display the appropriate message as per the color of signal \n",
    "# (RED-Stop/Yellow-Stay/ Green-Go) at the road crossing.\n",
    "\n",
    "# Function to display message based on traffic signal color\n",
    "def trafficSignalMessage(signalColor):\n",
    "    numSignal = None\n",
    "    if signalColor.isdigit():\n",
    "        numSignal = int(signalColor) \n",
    "    if (signalColor.lower() == \"red\" or numSignal ==1):\n",
    "        return \"Stop\"\n",
    "    elif (signalColor.lower() == \"yellow\" or numSignal==2):\n",
    "        return \"Stay\"\n",
    "    elif (signalColor.lower() == \"green\" or numSignal==3):\n",
    "        return \"Go\"\n",
    "    else:\n",
    "        return \"Invalid color! Please enter Red, Yellow, or Green.  otherwise correspond 1,2,3\"\n",
    "\n",
    "# Input from user\n",
    "signalColor = input('''Enter the  color or coresspond value of the traffic signal (\n",
    "                    1)Red, \n",
    "                    2)Yellow, \n",
    "                    3)Green):\n",
    "                    ''')\n",
    "\n",
    "# Display the appropriate message\n",
    "message = trafficSignalMessage(signalColor)\n",
    "print(message)\n"
   ]
  },
  {
   "cell_type": "code",
   "execution_count": 5,
   "id": "d8c5c9ed-4a55-4687-8118-9dac770951bd",
   "metadata": {},
   "outputs": [
    {
     "name": "stdout",
     "output_type": "stream",
     "text": [
      "Simple Calculator\n",
      "Choose an operation:\n",
      "1. Addition (+)\n",
      "2. Subtraction (-)\n",
      "3. Multiplication (*)\n",
      "4. Division (/)\n"
     ]
    },
    {
     "name": "stdin",
     "output_type": "stream",
     "text": [
      "Enter the operation number (1/2/3/4):  4\n",
      "Enter first number:  22\n",
      "Enter second number:  11\n"
     ]
    },
    {
     "name": "stdout",
     "output_type": "stream",
     "text": [
      "The result of 22.0 / 11.0 = 2.0\n"
     ]
    }
   ],
   "source": [
    "#1.7. Write a program to create a simple calculator performing only four basic operations(+,-,/.*).\n",
    "\n",
    "print(\"Simple Calculator\")\n",
    "print(\"Choose an operation:\")\n",
    "print(\"1. Addition (+)\")\n",
    "print(\"2. Subtraction (-)\")\n",
    "print(\"3. Multiplication (*)\")\n",
    "print(\"4. Division (/)\")\n",
    "\n",
    "choice = input(\"Enter the operation number (1/2/3/4): \")\n",
    "\n",
    "if choice in ['1', '2', '3', '4']:\n",
    "    num1 = float(input(\"Enter first number: \"))\n",
    "    num2 = float(input(\"Enter second number: \"))\n",
    "\n",
    "    # Perform the chosen operation\n",
    "    if choice == '1':\n",
    "        result = num1 + num2\n",
    "        operation = \"+\"\n",
    "    elif choice == '2':\n",
    "        result = num1 - num2\n",
    "        operation = \"-\"\n",
    "    elif choice == '3':\n",
    "        result = num1 * num2\n",
    "        operation = \"*\"\n",
    "    elif choice == '4':\n",
    "        # Handle division by zero\n",
    "        if num2 == 0:\n",
    "            print(\"Error: Division by zero is not allowed.\")\n",
    "        else:\n",
    "            result = num1 / num2\n",
    "            operation = \"/\"\n",
    "\n",
    "    # Print the result only if there is a valid operation\n",
    "    if choice in ['1', '2', '3', '4'] and (choice != '4' or num2 != 0):\n",
    "        print(f\"The result of {num1} {operation} {num2} = {result}\")\n",
    "else:\n",
    "    print(\"Invalid operation! Please choose a number between 1 and 4.\")\n"
   ]
  },
  {
   "cell_type": "code",
   "execution_count": 6,
   "id": "d3dc76c9-3c17-4b45-b17b-bf82adf0f8d3",
   "metadata": {},
   "outputs": [
    {
     "name": "stdout",
     "output_type": "stream",
     "text": [
      "The largest of the numbers 15,25,10 is:25\n"
     ]
    }
   ],
   "source": [
    "# 1.8. Write a program to find the larger of the three pre-specified numbers using ternary operators.\n",
    "\n",
    "num1 = 15\n",
    "num2 = 25\n",
    "num3 = 10\n",
    "\n",
    "largest = num1 if(num1 > num2 and num1 > num3) else (num2 if num2 > num3 else num3)\n",
    "\n",
    "print(f\"The largest of the numbers {num1},{num2},{num3} is:{largest}\")"
   ]
  },
  {
   "cell_type": "code",
   "execution_count": 7,
   "id": "94014568-241f-4ee6-8e5b-c3c6426b1896",
   "metadata": {},
   "outputs": [
    {
     "name": "stdin",
     "output_type": "stream",
     "text": [
      "Enter a whole number:  12\n"
     ]
    },
    {
     "name": "stdout",
     "output_type": "stream",
     "text": [
      "The factors of 12 are: 1 2 3 4 6 12 "
     ]
    }
   ],
   "source": [
    "# 1.9. Write a program to find the factors of a whole number using a while loop.\n",
    "\n",
    "num = int(input(\"Enter a whole number: \"))\n",
    "\n",
    "i = 1\n",
    "\n",
    "print(f\"The factors of {num} are:\", end=\" \")\n",
    "\n",
    "while i <= num:\n",
    "    if num % i == 0:\n",
    "        print(i, end=\" \")\n",
    "    i += 1\n"
   ]
  },
  {
   "cell_type": "code",
   "execution_count": 8,
   "id": "c881355a-077f-4729-9415-8ffa261548bc",
   "metadata": {},
   "outputs": [
    {
     "name": "stdout",
     "output_type": "stream",
     "text": [
      "Enter positive numbers to add to the sum. Enter a negative number to stop.\n"
     ]
    },
    {
     "name": "stdin",
     "output_type": "stream",
     "text": [
      "Enter a number:  4\n",
      "Enter a number:  5\n",
      "Enter a number:  7\n",
      "Enter a number:  0\n",
      "Enter a number:  -1\n"
     ]
    },
    {
     "name": "stdout",
     "output_type": "stream",
     "text": [
      "The sum of all positive numbers entered is: 16\n"
     ]
    }
   ],
   "source": [
    "# 1.10. Write a program to find the sum of all the positive numbers entered by the user. As soon as the user \n",
    "# enters a negative number, stop taking in any further input from the user and display the sum..\n",
    "\n",
    "total_sum = 0\n",
    "\n",
    "print(\"Enter positive numbers to add to the sum. Enter a negative number to stop.\")\n",
    "\n",
    "while True:\n",
    "    num = int(input(\"Enter a number: \"))\n",
    "    \n",
    "    if num < 0:\n",
    "        break  \n",
    "\n",
    "    total_sum += num\n",
    "\n",
    "print(f\"The sum of all positive numbers entered is: {total_sum}\")\n"
   ]
  },
  {
   "cell_type": "code",
   "execution_count": 9,
   "id": "20254a5a-a15a-4c13-b9c0-badbd8d2947b",
   "metadata": {},
   "outputs": [
    {
     "name": "stdout",
     "output_type": "stream",
     "text": [
      "Prime numbers between 2 and 100 are:\n",
      "2 3 5 7 11 13 17 19 23 29 31 37 41 43 47 53 59 61 67 71 73 79 83 89 97 "
     ]
    }
   ],
   "source": [
    "# 1.11. Write a program to find prime numbers between 2 to 100 using nested for loops.\n",
    "\n",
    "print(\"Prime numbers between 2 and 100 are:\")\n",
    "\n",
    "for num in range(2, 101):\n",
    "    is_prime = True\n",
    "    for i in range(2, int(num ** 0.5) + 1): \n",
    "        if num % i == 0:  \n",
    "            is_prime = False\n",
    "            break  \n",
    "\n",
    "    if is_prime:\n",
    "        print(num, end=\" \")\n"
   ]
  },
  {
   "cell_type": "code",
   "execution_count": 10,
   "id": "518bf191-5149-458f-87d7-99a26de1dd22",
   "metadata": {},
   "outputs": [
    {
     "name": "stdin",
     "output_type": "stream",
     "text": [
      "Enter marks for subject 1:  90\n",
      "Enter marks for subject 2:  70\n",
      "Enter marks for subject 3:  80\n",
      "Enter marks for subject 4:  60\n",
      "Enter marks for subject 5:  67\n"
     ]
    },
    {
     "name": "stdout",
     "output_type": "stream",
     "text": [
      "\n",
      "Marks entered for the student:\n",
      "Subject 1: 90.0\n",
      "Subject 2: 70.0\n",
      "Subject 3: 80.0\n",
      "Subject 4: 60.0\n",
      "Subject 5: 67.0\n",
      "\n",
      "Total Marks: 367.0\n",
      "Percentage: 73.40%\n",
      "Grade: C\n"
     ]
    }
   ],
   "source": [
    "# 1.12. Write the programs for the following:\n",
    "# a)Accept the marks of the student in five major subjects and display the same.\n",
    "# b)Calculate the sum of the marks of all subiects.\n",
    "# c)Divide the total marks by number of subiects (ie 5) calculate percentage total marks/5 and display the \n",
    "# percentage.\n",
    "# e)Find the grade of the student as per the following criteria.\n",
    "\n",
    "marks = []\n",
    "for i in range(1, 6):\n",
    "    mark = float(input(f\"Enter marks for subject {i}: \"))\n",
    "    marks.append(mark)\n",
    "\n",
    "print(\"\\nMarks entered for the student:\")\n",
    "for i, mark in enumerate(marks, 1):\n",
    "    print(f\"Subject {i}: {mark}\")\n",
    "\n",
    "# Calculate total marks, percentage\n",
    "total_marks = sum(marks)\n",
    "percentage = total_marks / 5\n",
    "\n",
    "print(f\"\\nTotal Marks: {total_marks}\")\n",
    "print(f\"Percentage: {percentage:.2f}%\")\n",
    "\n",
    "# Determine grade using match-case\n",
    "match percentage:\n",
    "    case percentage if percentage > 85:\n",
    "        grade = \"A\"\n",
    "    case percentage if 75 <= percentage < 85:\n",
    "        grade = \"B\"\n",
    "    case percentage if 50 <= percentage < 75:\n",
    "        grade = \"C\"\n",
    "    case percentage if 30 <= percentage <= 50:\n",
    "        grade = \"D\"\n",
    "    case _: # default case and means < 30%\n",
    "        grade = \"F\"\n",
    "\n",
    "print(f\"Grade: {grade}\")\n"
   ]
  },
  {
   "cell_type": "code",
   "execution_count": 11,
   "id": "de7a06e9-1c73-4daa-893f-00a1d783e67e",
   "metadata": {},
   "outputs": [
    {
     "name": "stdin",
     "output_type": "stream",
     "text": [
      "Enter the wavelength (in nm):  500\n"
     ]
    },
    {
     "name": "stdout",
     "output_type": "stream",
     "text": [
      "The color corresponding to wavelength 500.0 nm is: Green\n"
     ]
    }
   ],
   "source": [
    "# 1.13. Write a program for VIBGYOR Spectrum based on their Wavelength using.\n",
    "# \tWavelength Range:\n",
    "# \t+---------+----------------------+\n",
    "# \t|  Color  |    Wavelength (nm)   |\n",
    "# \t+---------+----------------------+\n",
    "# \t|  Violet  |    400.0 - 440.0     |\n",
    "# \t|  Indigo  |    440.0 - 460.0     |\n",
    "# \t|   Blue   |    460.0 - 500.0     |\n",
    "# \t|  Green   |    500.0 - 570.0     |\n",
    "# \t|  Yellow  |    570.0 - 590.0     |\n",
    "# \t|  Orange  |    590.0 - 620.0     |\n",
    "# \t|   Red    |    620.0 - 720.0     |\n",
    "# \t+---------+----------------------+\n",
    "\n",
    "\n",
    "wavelength = float(input(\"Enter the wavelength (in nm): \"))\n",
    "\n",
    "if 400.0 <= wavelength < 440.0:\n",
    "    color = \"Violet\"\n",
    "elif 440.0 <= wavelength < 460.0:\n",
    "    color = \"Indigo\"\n",
    "elif 460.0 <= wavelength < 500.0:\n",
    "    color = \"Blue\"\n",
    "elif 500.0 <= wavelength < 570.0:\n",
    "    color = \"Green\"\n",
    "elif 570.0 <= wavelength < 590.0:\n",
    "    color = \"Yellow\"\n",
    "elif 590.0 <= wavelength < 620.0:\n",
    "    color = \"Orange\"\n",
    "elif 620.0 <= wavelength <= 720.0:\n",
    "    color = \"Red\"\n",
    "else:\n",
    "    color = \"Invalid wavelength (out of VIBGYOR range)\"\n",
    "\n",
    "print(f\"The color corresponding to wavelength {wavelength} nm is: {color}\")\n",
    "\n"
   ]
  },
  {
   "cell_type": "code",
   "execution_count": 12,
   "id": "10c15324-577c-4f96-983c-ae8bb42dbf59",
   "metadata": {},
   "outputs": [
    {
     "name": "stdout",
     "output_type": "stream",
     "text": [
      "The gravitational force between the Earth and the Sun.35423960813684972847104.000000\n",
      "The gravitational force between the Moon and the Earth.1981321495816527573407957550245085184.000000\n",
      "The gravitational force between Moon and Earth is stronger.\n",
      "Earth is more strongly attracted to the Moon than to the Sun.\n"
     ]
    }
   ],
   "source": [
    "# .14.Consider the gravitational interactions between the Earth, Moon, and Sun in our solar system.\n",
    "# \tTasks.\n",
    "# \tCalculate the gravitational force between the Earth and the Sun.\n",
    "# \tCalculate the gravitational force between the Moon and the Earth.\n",
    "# \tCompare the calculated forces to determine which gravitational force is stronger.\n",
    "# \tExplain which celestial body (Earth or Moon) is more attracted to the other based on the comparison.\n",
    "\n",
    "# \tGiven:\n",
    "mass_earth = 5.972e24 #Mass of Earth in kilograms\n",
    "mass_moon = 7.34767309e22 #Mass of Moon in kilograms\n",
    "mass_sun = 1.989e30 # Mass of Sun in kilograms\n",
    "distance_earth_sun = 1.496e11 # Average distance between Earth and Sun in meters.\n",
    "distance_moon_earth = 3.84468 # Average distance between Moon and Earth in meters\n",
    "G = 6.67430e-11  # Gravitational constant in m^3 kg^-1 s^-2\n",
    "\n",
    "f_earth_sun = (G * mass_earth * mass_sun) / (distance_earth_sun**2)\n",
    "print(f\"The gravitational force between the Earth and the Sun.{f_earth_sun:2f}\")\n",
    "\n",
    "f_moon_earth = (G * mass_moon * mass_earth) / (distance_moon_earth**2)\n",
    "print(f\"The gravitational force between the Moon and the Earth.{f_moon_earth:2f}\")\n",
    "\n",
    "# Determine which force is stronger\n",
    "if f_earth_sun > f_moon_earth:\n",
    "    print(\"The gravitational force between Earth and Sun is stronger.\")\n",
    "else:\n",
    "    print(\"The gravitational force between Moon and Earth is stronger.\")\n",
    "\n",
    "# Explain the attraction\n",
    "if f_earth_sun > f_moon_earth:\n",
    "    print(\"Earth is more strongly attracted to the Sun than to the Moon.\")\n",
    "else:\n",
    "    print(\"Earth is more strongly attracted to the Moon than to the Sun.\")\n"
   ]
  },
  {
   "cell_type": "code",
   "execution_count": null,
   "id": "473fbe30-a1a5-4174-a38d-a28b0e3c68f3",
   "metadata": {},
   "outputs": [],
   "source": []
  }
 ],
 "metadata": {
  "kernelspec": {
   "display_name": "Python 3 (ipykernel)",
   "language": "python",
   "name": "python3"
  },
  "language_info": {
   "codemirror_mode": {
    "name": "ipython",
    "version": 3
   },
   "file_extension": ".py",
   "mimetype": "text/x-python",
   "name": "python",
   "nbconvert_exporter": "python",
   "pygments_lexer": "ipython3",
   "version": "3.12.3"
  }
 },
 "nbformat": 4,
 "nbformat_minor": 5
}
