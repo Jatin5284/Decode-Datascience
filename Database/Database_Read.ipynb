{
 "cells": [
  {
   "cell_type": "code",
   "execution_count": 1,
   "id": "cf071d12-8ab8-4c58-b7e1-d130c4c48875",
   "metadata": {},
   "outputs": [],
   "source": [
    "import warnings\n",
    "warnings.filterwarnings('ignore')"
   ]
  },
  {
   "cell_type": "code",
   "execution_count": 2,
   "id": "64656662-ac16-4fe5-8384-b8a503669f03",
   "metadata": {},
   "outputs": [
    {
     "name": "stdout",
     "output_type": "stream",
     "text": [
      "   user_id  flight_id  hotel_id  activity_id booking_date\n",
      "0        1        101       201          301   2025-04-10\n",
      "1        2        102       202          302   2025-04-11\n",
      "2        3        103       203          303   2025-04-12\n",
      "3        4        104       204          304   2025-04-13\n",
      "4        5        105       205          305   2025-04-14\n"
     ]
    }
   ],
   "source": [
    "import pandas as pd\n",
    "import mysql.connector\n",
    "\n",
    "# Step 1: Connect to MySQL\n",
    "connection = mysql.connector.connect(\n",
    "    host='localhost',       \n",
    "    user='root',   \n",
    "    password='JATIN@5284', \n",
    "    database='Travel_Planner'\n",
    ")\n",
    "\n",
    "# Step 2: Query the bookings table\n",
    "query = \"SELECT * FROM bookings\"\n",
    "df = pd.read_sql(query, connection)\n",
    "\n",
    "# Step 3: Display the DataFrame\n",
    "print(df)\n",
    "\n",
    "# Step 4: Close the connection\n",
    "connection.close()\n"
   ]
  },
  {
   "cell_type": "code",
   "execution_count": null,
   "id": "8bf06384-3169-47a3-ad80-2c364e86aefe",
   "metadata": {},
   "outputs": [],
   "source": []
  }
 ],
 "metadata": {
  "kernelspec": {
   "display_name": "Python 3 (ipykernel)",
   "language": "python",
   "name": "python3"
  },
  "language_info": {
   "codemirror_mode": {
    "name": "ipython",
    "version": 3
   },
   "file_extension": ".py",
   "mimetype": "text/x-python",
   "name": "python",
   "nbconvert_exporter": "python",
   "pygments_lexer": "ipython3",
   "version": "3.12.3"
  }
 },
 "nbformat": 4,
 "nbformat_minor": 5
}
